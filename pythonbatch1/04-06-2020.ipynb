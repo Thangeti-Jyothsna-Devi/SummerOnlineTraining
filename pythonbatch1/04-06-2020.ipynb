{
 "cells": [
  {
   "cell_type": "raw",
   "metadata": {},
   "source": [
    "Raghav is currently watching Netflix. He is feeling thrilled after watching Seasons 1, 2 and 3 of 13 Reasons Why, and is desperately waiting for release of Season 4. But the makers of the show are in no mood to release the next season anytime soon. \n",
    "\n",
    "The makers of 13 Reasons Why give Raghav a challenge to solve. If he solves this challenge, then they will give exclusive copy of Season 4 to him.\n",
    "\n",
    "But Raghav is feeling lazy. Can you help him solve this challenge?\n",
    "\n",
    "Given 3 integers A, B, C. Do the following steps-\n",
    "\n",
    "Swap A and B.\n",
    "Multiply A by C.\n",
    "Add C to B.\n",
    "Output new values of A and B.\n",
    "\n",
    "SAMPLE INPUT \n",
    "13 5 2\n",
    "SAMPLE OUTPUT \n",
    "10 15\n",
    "\n",
    "\n",
    "\n",
    "#a=13   #a=5\n",
    "b=5      b=13\n",
    "c=2"
   ]
  },
  {
   "cell_type": "code",
   "execution_count": 9,
   "metadata": {},
   "outputs": [
    {
     "name": "stdout",
     "output_type": "stream",
     "text": [
      "13\n",
      "5\n",
      "2\n",
      "10 15\n"
     ]
    }
   ],
   "source": [
    "a=int(input())\n",
    "b=int(input())\n",
    "c=int(input())\n",
    "temp=a   \n",
    "a=b\n",
    "b=temp\n",
    "#print(\"the value a is:\",a)\n",
    "#print(\"the value of b is :\",b)\n",
    "a=a*c\n",
    "b=b+c\n",
    "print(a,b)\n",
    "\n"
   ]
  },
  {
   "cell_type": "code",
   "execution_count": 10,
   "metadata": {},
   "outputs": [
    {
     "name": "stdout",
     "output_type": "stream",
     "text": [
      "10 15\n",
      "10 15\n",
      "10 15\t"
     ]
    }
   ],
   "source": [
    "print(a,b)\n",
    "print(a,b,sep=\" \")\n",
    "print(a,b,end=\"\\t\")\n"
   ]
  },
  {
   "cell_type": "code",
   "execution_count": 11,
   "metadata": {},
   "outputs": [
    {
     "name": "stdout",
     "output_type": "stream",
     "text": [
      "10 15\n"
     ]
    }
   ],
   "source": [
    "print(a,end=\" \")\n",
    "print(b)"
   ]
  },
  {
   "cell_type": "markdown",
   "metadata": {},
   "source": [
    "### Conditional Statemets\n",
    "1. If,else,elif,nested if\n"
   ]
  },
  {
   "cell_type": "raw",
   "metadata": {},
   "source": [
    "if condition:\n",
    "   statement1\n",
    "   statement2\n",
    "   statement3"
   ]
  },
  {
   "cell_type": "code",
   "execution_count": 18,
   "metadata": {},
   "outputs": [
    {
     "name": "stdout",
     "output_type": "stream",
     "text": [
      "end of program\n"
     ]
    }
   ],
   "source": [
    "# write a program to check whether is given num is positive\n",
    "num=-100\n",
    "if num>0:\n",
    "    print(\"positive number\")\n",
    "print(\"end of program\")\n",
    "    "
   ]
  },
  {
   "cell_type": "markdown",
   "metadata": {},
   "source": [
    "if condition:\n",
    "    statements\n",
    "else:\n",
    "    statements\n",
    "    "
   ]
  },
  {
   "cell_type": "code",
   "execution_count": 20,
   "metadata": {},
   "outputs": [
    {
     "name": "stdout",
     "output_type": "stream",
     "text": [
      "enter a number-25\n",
      "negative\n"
     ]
    }
   ],
   "source": [
    "#whether the num is positive or negative\n",
    "num=int(input(\"enter a number\"))\n",
    "if (num>0):\n",
    "    print(\"positive\")\n",
    "    \n",
    "else:\n",
    "    print(\"negative\")"
   ]
  },
  {
   "cell_type": "raw",
   "metadata": {},
   "source": [
    "if condition:\n",
    "    statements\n",
    "elif condition:\n",
    "    statements\n",
    "else:\n",
    "    statements\n"
   ]
  },
  {
   "cell_type": "code",
   "execution_count": 21,
   "metadata": {},
   "outputs": [
    {
     "name": "stdout",
     "output_type": "stream",
     "text": [
      "enter a num0\n",
      "zeero\n"
     ]
    }
   ],
   "source": [
    "#whether the given is positive or negative or zeero\n",
    "num=int(input(\"enter a num\"))\n",
    "if num>0:\n",
    "    print(\"pos\")\n",
    "elif num<0:\n",
    "    print(\"neg\")\n",
    "else:\n",
    "    print(\"zeero\")\n"
   ]
  },
  {
   "cell_type": "markdown",
   "metadata": {},
   "source": [
    "#nested if \n",
    "if condition:\n",
    "    if condition:\n",
    "        statements\n",
    "else:\n",
    "    statements"
   ]
  },
  {
   "cell_type": "code",
   "execution_count": 1,
   "metadata": {},
   "outputs": [
    {
     "name": "stdout",
     "output_type": "stream",
     "text": [
      "89\n",
      "num is not in the range\n"
     ]
    }
   ],
   "source": [
    "# check whether a given is in the range of 20 and 50\n",
    "num=int(input())\n",
    "if num>20:\n",
    "    if num<50:\n",
    "        print(\"num is in the range of 20 and 50\")\n",
    "    else:\n",
    "        print(\"num is not in the range\")\n",
    "else:\n",
    "    print(\"num is not in the given range\")\n",
    "        \n",
    "        \n",
    "    \n"
   ]
  },
  {
   "cell_type": "code",
   "execution_count": 2,
   "metadata": {},
   "outputs": [
    {
     "name": "stdout",
     "output_type": "stream",
     "text": [
      "25\n",
      "num is in range\n"
     ]
    }
   ],
   "source": [
    "num=int(input())\n",
    "if num>20 and num<50:\n",
    "    print(\"num is in range\")\n",
    "else:\n",
    "    print(\"num is not in range\")"
   ]
  },
  {
   "cell_type": "raw",
   "metadata": {},
   "source": [
    "write a program to check whether the given num is divisible by 2 but not 10"
   ]
  },
  {
   "cell_type": "code",
   "execution_count": 8,
   "metadata": {},
   "outputs": [
    {
     "name": "stdout",
     "output_type": "stream",
     "text": [
      "2\n",
      "valid\n"
     ]
    }
   ],
   "source": [
    "num=int(input())\n",
    "if num%2==0 and num%10!=0:\n",
    "    print(\"valid\")\n",
    "else:\n",
    "    print(\"invalid\")"
   ]
  },
  {
   "cell_type": "code",
   "execution_count": 30,
   "metadata": {},
   "outputs": [
    {
     "name": "stdout",
     "output_type": "stream",
     "text": [
      "12\n",
      "valid\n",
      "50\n",
      "invalid\n",
      "10\n",
      "invalid\n",
      "25\n",
      "invalid\n",
      "18\n",
      "valid\n"
     ]
    }
   ],
   "source": [
    "for i in range(5):\n",
    "    num=int(input())\n",
    "    if num%2 is 0 and num%10 is not 0:\n",
    "        print(\"valid\")\n",
    "    else:\n",
    "        print(\"invalid\")"
   ]
  },
  {
   "cell_type": "markdown",
   "metadata": {},
   "source": [
    "### Loops\n",
    "1. for \n",
    "2. while"
   ]
  },
  {
   "cell_type": "code",
   "execution_count": 11,
   "metadata": {},
   "outputs": [
    {
     "name": "stdout",
     "output_type": "stream",
     "text": [
      "5\n",
      "5\n",
      "5\n",
      "5\n",
      "5\n"
     ]
    }
   ],
   "source": [
    "print(5)\n",
    "print(5)\n",
    "print(5)\n",
    "print(5)\n",
    "print(5)"
   ]
  },
  {
   "cell_type": "raw",
   "metadata": {},
   "source": [
    "range(start,end,step)\n",
    "range(0,5-1,1)\n",
    "0\n",
    "1\n",
    "2\n",
    "3\n",
    "4\n",
    "range(5)\n",
    "0\n",
    "1\n",
    "2\n",
    "3\n",
    "4\n",
    "range(1,6)\n",
    "1\n",
    "2\n",
    "3\n",
    "4\n",
    "5\n",
    "range(2,11,2)\n",
    "2\n",
    "4\n",
    "6\n",
    "8\n",
    "10"
   ]
  },
  {
   "cell_type": "code",
   "execution_count": 17,
   "metadata": {},
   "outputs": [
    {
     "data": {
      "text/plain": [
       "range(1, 10)"
      ]
     },
     "execution_count": 17,
     "metadata": {},
     "output_type": "execute_result"
    }
   ],
   "source": [
    "range(1,10)"
   ]
  },
  {
   "cell_type": "code",
   "execution_count": 18,
   "metadata": {},
   "outputs": [
    {
     "name": "stdout",
     "output_type": "stream",
     "text": [
      "0\n",
      "1\n",
      "2\n",
      "3\n",
      "4\n",
      "5\n",
      "6\n",
      "7\n",
      "8\n",
      "9\n"
     ]
    }
   ],
   "source": [
    "for var in range(10):\n",
    "    print(var)\n",
    "    \n",
    "#var=0\n",
    "#var=1\n",
    "#......\n",
    "#var=9"
   ]
  },
  {
   "cell_type": "code",
   "execution_count": 20,
   "metadata": {},
   "outputs": [
    {
     "name": "stdout",
     "output_type": "stream",
     "text": [
      "1\n",
      "2\n",
      "3\n",
      "4\n",
      "5\n",
      "6\n",
      "7\n",
      "8\n",
      "9\n",
      "10\n"
     ]
    }
   ],
   "source": [
    "for var in range(1,11):\n",
    "    print(var)"
   ]
  },
  {
   "cell_type": "code",
   "execution_count": 21,
   "metadata": {},
   "outputs": [
    {
     "name": "stdout",
     "output_type": "stream",
     "text": [
      "1\n",
      "3\n",
      "5\n",
      "7\n",
      "9\n"
     ]
    }
   ],
   "source": [
    "for var in range(1,11,2):\n",
    "    print(var)\n",
    "    \n",
    "#var=1   1+2=3\n",
    "#var=3  3+2=5\n",
    "#var=5\n"
   ]
  },
  {
   "cell_type": "code",
   "execution_count": 25,
   "metadata": {},
   "outputs": [
    {
     "name": "stdout",
     "output_type": "stream",
     "text": [
      "5\n",
      "5\n",
      "5\n",
      "5\n",
      "5\n"
     ]
    }
   ],
   "source": [
    "for i in range(5):\n",
    "    print(5)"
   ]
  },
  {
   "cell_type": "code",
   "execution_count": 26,
   "metadata": {},
   "outputs": [
    {
     "name": "stdout",
     "output_type": "stream",
     "text": [
      "5\n",
      "5\n",
      "5\n",
      "5\n",
      "5\n"
     ]
    }
   ],
   "source": [
    "for i in range(1,6):\n",
    "    print(5)"
   ]
  },
  {
   "cell_type": "code",
   "execution_count": 32,
   "metadata": {},
   "outputs": [
    {
     "name": "stdout",
     "output_type": "stream",
     "text": [
      "abhishek\n",
      "abhishek\n",
      "abhishek\n",
      "abhishek\n",
      "abhishek\n"
     ]
    }
   ],
   "source": [
    "for i in range(2,7):\n",
    "    print(\"abhishek\")\n",
    "    "
   ]
  },
  {
   "cell_type": "code",
   "execution_count": 28,
   "metadata": {},
   "outputs": [
    {
     "name": "stdout",
     "output_type": "stream",
     "text": [
      "5\n",
      "5\n",
      "5\n",
      "5\n",
      "5\n"
     ]
    }
   ],
   "source": [
    "for i in range(100,105):\n",
    "    print(5)\n",
    "    "
   ]
  },
  {
   "cell_type": "code",
   "execution_count": null,
   "metadata": {},
   "outputs": [],
   "source": []
  }
 ],
 "metadata": {
  "kernelspec": {
   "display_name": "Python 3",
   "language": "python",
   "name": "python3"
  },
  "language_info": {
   "codemirror_mode": {
    "name": "ipython",
    "version": 3
   },
   "file_extension": ".py",
   "mimetype": "text/x-python",
   "name": "python",
   "nbconvert_exporter": "python",
   "pygments_lexer": "ipython3",
   "version": "3.7.3"
  }
 },
 "nbformat": 4,
 "nbformat_minor": 2
}
