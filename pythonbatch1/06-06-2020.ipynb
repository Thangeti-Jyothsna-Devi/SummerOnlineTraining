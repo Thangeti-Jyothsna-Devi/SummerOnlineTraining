{
 "cells": [
  {
   "cell_type": "markdown",
   "metadata": {},
   "source": [
    "### functions\n",
    "\n",
    "- arguments are the inputs which are given when calling a function\n",
    "- paramnets are the inputs which are given when defining a function\n",
    "- formal parameters are the inputs which are  given when defining a function\n",
    "- actual parameters are the inputs which are given when calling a function"
   ]
  },
  {
   "cell_type": "code",
   "execution_count": 1,
   "metadata": {},
   "outputs": [
    {
     "name": "stdout",
     "output_type": "stream",
     "text": [
      "2\n"
     ]
    },
    {
     "data": {
      "text/plain": [
       "True"
      ]
     },
     "execution_count": 1,
     "metadata": {},
     "output_type": "execute_result"
    }
   ],
   "source": [
    "\n",
    "#check whether the given number is even or odd\n",
    "def even(n):\n",
    "    if n%2==0:\n",
    "        return True\n",
    "    else:\n",
    "        return False\n",
    "even(6)"
   ]
  },
  {
   "cell_type": "code",
   "execution_count": 2,
   "metadata": {},
   "outputs": [
    {
     "name": "stdout",
     "output_type": "stream",
     "text": [
      "enter a number6\n",
      "1 2 3 6 "
     ]
    }
   ],
   "source": [
    "#func to find the factors of a given number\n",
    "#6-1,2,3,6\n",
    "n=int(input(\"enter a number\"))\n",
    "def factor(n):\n",
    "    for i in range(1,n+1):\n",
    "        if n%i==0:\n",
    "            print(i,end=\" \")\n",
    "factor(n)       "
   ]
  },
  {
   "cell_type": "code",
   "execution_count": 5,
   "metadata": {},
   "outputs": [
    {
     "name": "stdout",
     "output_type": "stream",
     "text": [
      "1 2 4 7 14 28 "
     ]
    }
   ],
   "source": [
    "factor(28)"
   ]
  },
  {
   "cell_type": "code",
   "execution_count": 6,
   "metadata": {},
   "outputs": [
    {
     "name": "stdout",
     "output_type": "stream",
     "text": [
      "1 2 4 13 26 52 "
     ]
    }
   ],
   "source": [
    "factor(52)"
   ]
  },
  {
   "cell_type": "code",
   "execution_count": 7,
   "metadata": {},
   "outputs": [
    {
     "name": "stdout",
     "output_type": "stream",
     "text": [
      "6\n",
      "1 2 3 6 "
     ]
    }
   ],
   "source": [
    "def factor():\n",
    "    n=int(input())\n",
    "    for i in range(1,n+1):\n",
    "        if n%i==0:\n",
    "            print(i,end=\" \")\n",
    "factor()    "
   ]
  },
  {
   "cell_type": "code",
   "execution_count": 8,
   "metadata": {},
   "outputs": [
    {
     "name": "stdout",
     "output_type": "stream",
     "text": [
      "58\n",
      "1 2 29 58 "
     ]
    }
   ],
   "source": [
    "factor()"
   ]
  },
  {
   "cell_type": "code",
   "execution_count": 12,
   "metadata": {},
   "outputs": [
    {
     "name": "stdout",
     "output_type": "stream",
     "text": [
      "2\n"
     ]
    },
    {
     "data": {
      "text/plain": [
       "'prime number'"
      ]
     },
     "execution_count": 12,
     "metadata": {},
     "output_type": "execute_result"
    }
   ],
   "source": [
    "#func to find whether the given number is prime or not\n",
    "#factors\n",
    "#check if factorcount==2\n",
    "def is_prime(n):\n",
    "    count=0\n",
    "    for i in range(1,n+1):\n",
    "        if n%i==0:\n",
    "            count+=1  #count=count+1\n",
    "    print(count)\n",
    "    if count==2:\n",
    "        return \"prime number\"\n",
    "    else:\n",
    "        return \"not a prime number\"\n",
    "is_prime(3)           \n",
    "    "
   ]
  },
  {
   "cell_type": "code",
   "execution_count": 16,
   "metadata": {},
   "outputs": [
    {
     "data": {
      "text/plain": [
       "'not a perfect no'"
      ]
     },
     "execution_count": 16,
     "metadata": {},
     "output_type": "execute_result"
    }
   ],
   "source": [
    "#function to find the given num is perfect number or not\n",
    "#6 1,2,3,6---1+2+3=6\n",
    "#28 \n",
    "#sum of the factors of the given num(excluding the given num) \n",
    "#is equal to the number given\n",
    "#factorssum\n",
    "#factorssum==given num\n",
    "def perfect(n):\n",
    "    s=0\n",
    "    for i in range(1,n):\n",
    "        if n%i==0:\n",
    "            s=s+i\n",
    "    if s==n:\n",
    "        return \"perfect no\"\n",
    "    else:\n",
    "        return \"not a perfect no\"\n",
    "perfect(5)"
   ]
  },
  {
   "cell_type": "code",
   "execution_count": 19,
   "metadata": {},
   "outputs": [
    {
     "name": "stdout",
     "output_type": "stream",
     "text": [
      "enter the lower bound1\n",
      " enter the upperbound100\n",
      "2 3 5 7 11 13 17 19 23 29 31 37 41 43 47 53 59 61 67 71 73 79 83 89 97 "
     ]
    }
   ],
   "source": [
    "#func to print all the prime numbers in the given range\n",
    "#1 to 10----2,3,5,7\n",
    "lb=int(input(\"enter the lower bound\"))\n",
    "ub=int(input(\" enter the upperbound\"))\n",
    "def is_prime(n):\n",
    "    count=0\n",
    "    for i in range(1,n+1):\n",
    "        if n%i==0:\n",
    "            count+=1  #count=count+1\n",
    "    #print(count)\n",
    "    if count==2:\n",
    "        return 1\n",
    "    else:\n",
    "        return 0\n",
    "for i in range(lb,ub+1):\n",
    "    if is_prime(i)==1:\n",
    "        print(i,end=\" \")"
   ]
  },
  {
   "cell_type": "markdown",
   "metadata": {},
   "source": [
    "### Strings"
   ]
  },
  {
   "cell_type": "code",
   "execution_count": 26,
   "metadata": {},
   "outputs": [
    {
     "name": "stdout",
     "output_type": "stream",
     "text": [
      "<class 'str'>\n",
      "string1\n",
      "string2\n",
      "string3\n",
      "<class 'str'>\n",
      "I don't\n",
      "I don\"t\n",
      "I don\"t\n"
     ]
    }
   ],
   "source": [
    "a=\"string\"\n",
    "b='string'\n",
    "c=\"\"\"string1\n",
    "string2\n",
    "string3\"\"\"\n",
    "d=\"g\"\n",
    "print(type(a))\n",
    "print(c)\n",
    "print(type(d))\n",
    "print(\"I don't\")\n",
    "print('I don\"t')\n",
    "print(\"I don\\\"t\")"
   ]
  },
  {
   "cell_type": "code",
   "execution_count": 28,
   "metadata": {},
   "outputs": [
    {
     "name": "stdout",
     "output_type": "stream",
     "text": [
      "p\n",
      "y\n",
      "n\n"
     ]
    }
   ],
   "source": [
    "s=\"python\"\n",
    "print(s[0])\n",
    "print(s[1])\n",
    "print(s[5])"
   ]
  },
  {
   "cell_type": "code",
   "execution_count": 29,
   "metadata": {},
   "outputs": [
    {
     "name": "stdout",
     "output_type": "stream",
     "text": [
      "n\n"
     ]
    }
   ],
   "source": [
    "#forward indexing: 0,1,2,3....\n",
    "#backward indexing:-1,-2,-3...\n",
    "print(s[-1])"
   ]
  },
  {
   "cell_type": "code",
   "execution_count": 30,
   "metadata": {},
   "outputs": [
    {
     "name": "stdout",
     "output_type": "stream",
     "text": [
      "39\n"
     ]
    }
   ],
   "source": [
    "s=\"pythonknjkcnvkcnvkcnvkncvjcknvkjcvnknvk\"\n",
    "a=len(s)\n",
    "print(a)\n"
   ]
  },
  {
   "cell_type": "code",
   "execution_count": 32,
   "metadata": {},
   "outputs": [
    {
     "name": "stdout",
     "output_type": "stream",
     "text": [
      "p y t h o n k n j k c n v k c n v k c n v k n c v j c k n v k j c v n k n v k "
     ]
    }
   ],
   "source": [
    "for i in range(0,len(s)):\n",
    "    print(s[i],end=\" \")"
   ]
  },
  {
   "cell_type": "code",
   "execution_count": 33,
   "metadata": {},
   "outputs": [
    {
     "name": "stdout",
     "output_type": "stream",
     "text": [
      "p y t h o n k n j k c n v k c n v k c n v k n c v j c k n v k j c v n k n v k "
     ]
    }
   ],
   "source": [
    "for i in s:\n",
    "    print(i,end=\" \")"
   ]
  },
  {
   "cell_type": "code",
   "execution_count": 2,
   "metadata": {},
   "outputs": [
    {
     "name": "stdout",
     "output_type": "stream",
     "text": [
      "j b j v f j d v j "
     ]
    }
   ],
   "source": [
    "s=\"jbjvfjdvj\"\n",
    "i=0\n",
    "while i<len(s):\n",
    "    print(s[i],end=\" \")\n",
    "    i=i+1"
   ]
  },
  {
   "cell_type": "code",
   "execution_count": 5,
   "metadata": {},
   "outputs": [
    {
     "data": {
      "text/plain": [
       "'ptoolncus'"
      ]
     },
     "execution_count": 5,
     "metadata": {},
     "output_type": "execute_result"
    }
   ],
   "source": [
    "# Slicing of a string\n",
    "\n",
    "#s[start,end,step]\n",
    "s=\"pythononlinecourse\"\n",
    "s[0:len(s):2]"
   ]
  },
  {
   "cell_type": "code",
   "execution_count": 9,
   "metadata": {},
   "outputs": [
    {
     "name": "stdout",
     "output_type": "stream",
     "text": [
      "pyt\n",
      "pyt\n"
     ]
    }
   ],
   "source": [
    "print(s[0:3:1])#first three characters\n",
    "print(s[:3])"
   ]
  },
  {
   "cell_type": "code",
   "execution_count": 10,
   "metadata": {},
   "outputs": [
    {
     "name": "stdout",
     "output_type": "stream",
     "text": [
      "pythononlinecourse\n"
     ]
    }
   ],
   "source": [
    "print(s[:])"
   ]
  },
  {
   "cell_type": "code",
   "execution_count": 20,
   "metadata": {},
   "outputs": [
    {
     "name": "stdout",
     "output_type": "stream",
     "text": [
      "ourse\n",
      "ourse\n",
      "ourse\n",
      "ourse\n"
     ]
    }
   ],
   "source": [
    "print(s[len(s)-5:len(s):1])\n",
    "print(s[-5:])\n",
    "print(s[13:len(s):1])\n",
    "print(s[-5:len(s):1])\n",
    "\n"
   ]
  },
  {
   "cell_type": "code",
   "execution_count": 28,
   "metadata": {},
   "outputs": [
    {
     "name": "stdout",
     "output_type": "stream",
     "text": [
      "nohtyp\n",
      "nohtyp\n"
     ]
    }
   ],
   "source": [
    "# to revere a string\n",
    "s=\"python\"\n",
    "print(s[::-1])\n",
    "print(s[len(s)::-1])\n"
   ]
  },
  {
   "cell_type": "code",
   "execution_count": 29,
   "metadata": {},
   "outputs": [
    {
     "name": "stdout",
     "output_type": "stream",
     "text": [
      "enter a stringmadam\n",
      "palindrome\n"
     ]
    }
   ],
   "source": [
    "#program to find whether the given string is palindrome or not\n",
    "#madam\n",
    "a=input(\"enter a string\")\n",
    "if a==a[::-1]:\n",
    "    print(\"palindrome\")\n",
    "else:\n",
    "    print(\"not a palindrome\")"
   ]
  },
  {
   "cell_type": "code",
   "execution_count": null,
   "metadata": {},
   "outputs": [],
   "source": [
    "# func to print all the perfect numbers in the given range"
   ]
  }
 ],
 "metadata": {
  "kernelspec": {
   "display_name": "Python 3",
   "language": "python",
   "name": "python3"
  },
  "language_info": {
   "codemirror_mode": {
    "name": "ipython",
    "version": 3
   },
   "file_extension": ".py",
   "mimetype": "text/x-python",
   "name": "python",
   "nbconvert_exporter": "python",
   "pygments_lexer": "ipython3",
   "version": "3.7.3"
  }
 },
 "nbformat": 4,
 "nbformat_minor": 2
}
